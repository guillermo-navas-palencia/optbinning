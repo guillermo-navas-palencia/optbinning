{
 "cells": [
  {
   "cell_type": "markdown",
   "metadata": {},
   "source": [
    "# Auto Scorecard: Replicating SAS Enterprise Miner's Pipeline for Explainable Scorecards\n",
    "\n",
    "In this tutorial, we will extend the FICO explainable scorecard to create a comprehensive pipeline that replicates commonly used steps in SAS Enterprise Miner. While we won't focus on manual binning, as it's covered in other tutorials on the Optbinning website, we aim to build an automated pipeline with the following functionalities:\n",
    "\n",
    "1. Feature Reduction:\n",
    "   - Removing features with small variance\n",
    "   - Removing features with small Information Value (IV)\n",
    "   - Identifying multicollinear features through clustering and selecting only two from each cluster\n",
    "   - Utilizing recursive feature selection to narrow down to a parsimonious model with a handful of features\n",
    "\n",
    "2. Scorecard Model:\n",
    "   - Binning the features via Weight of Evidence (WOE)\n",
    "   - Building a Logistic Regression model\n",
    "   - Converting predictions to scores\n",
    "\n",
    "For this tutorial, we assume you have the FICO data used in other tutorials and have already split it into train and test sets, placing them in the data folder. Our data folder should contain four files: _X_train.parquet_, _y_train.parquet_, _X_val.parquet_, and _y_val.parquet_.\n",
    "\n",
    "The full pipeline looks like the figure below and can explored in here.\n",
    "\n",
    "![Image](https://cdn-images-1.medium.com/max/800/1*o2NgTNpjrKg9wKU5RTkfQA.png)\n",
    "\n",
    "## Note:\n",
    "The code provided here was built for a blog post and contains additional information beyond a standard notebook code. For the complete version, please visit the blog and the associated repository."
   ]
  },
  {
   "cell_type": "markdown",
   "metadata": {},
   "source": [
    "Packages"
   ]
  },
  {
   "cell_type": "code",
   "execution_count": 17,
   "metadata": {},
   "outputs": [],
   "source": [
    "import json\n",
    "import logging as log\n",
    "import os\n",
    "from pathlib import Path\n",
    "\n",
    "import pandas as pd\n",
    "from optbinning import BinningProcess, Scorecard\n",
    "from sklearn.base import BaseEstimator, TransformerMixin\n",
    "from sklearn.feature_selection import RFECV, VarianceThreshold\n",
    "from sklearn.linear_model import LogisticRegression\n",
    "from sklearn.pipeline import Pipeline\n",
    "from varclushi import VarClusHi\n"
   ]
  },
  {
   "cell_type": "code",
   "execution_count": null,
   "metadata": {},
   "outputs": [],
   "source": [
    "# !pip install varclushi"
   ]
  },
  {
   "cell_type": "code",
   "execution_count": 18,
   "metadata": {},
   "outputs": [],
   "source": [
    "log.basicConfig(format='%(levelname)s:%(message)s', encoding='utf-8', level=log.DEBUG)\n",
    "TARGET: str = \"RiskPerformance\"\n",
    "SPECIAL_CODES = [-9, -8, -7]\n",
    "MISSING = [-99_000_000]\n",
    "MAX_EIGEN = 0.7"
   ]
  },
  {
   "cell_type": "markdown",
   "metadata": {},
   "source": [
    "This challenge imposes monotonicity constraints with respect to the probability of a bad target for many of the variables. We apply these rules by passing the following dictionary of parameters for these variables involved.\n"
   ]
  },
  {
   "cell_type": "code",
   "execution_count": 19,
   "metadata": {},
   "outputs": [],
   "source": [
    "binning_fit_params = {\n",
    "    \"ExternalRiskEstimate\": {\"monotonic_trend\": \"descending\"},\n",
    "    \"MSinceOldestTradeOpen\": {\"monotonic_trend\": \"descending\"},\n",
    "    \"MSinceMostRecentTradeOpen\": {\"monotonic_trend\": \"descending\"},\n",
    "    \"AverageMInFile\": {\"monotonic_trend\": \"descending\"},\n",
    "    \"NumSatisfactoryTrades\": {\"monotonic_trend\": \"descending\"},\n",
    "    \"NumTrades60Ever2DerogPubRec\": {\"monotonic_trend\": \"ascending\"},\n",
    "    \"NumTrades90Ever2DerogPubRec\": {\"monotonic_trend\": \"ascending\"},\n",
    "    \"PercentTradesNeverDelq\": {\"monotonic_trend\": \"descending\"},\n",
    "    \"MSinceMostRecentDelq\": {\"monotonic_trend\": \"descending\"},\n",
    "    \"NumTradesOpeninLast12M\": {\"monotonic_trend\": \"ascending\"},\n",
    "    \"MSinceMostRecentInqexcl7days\": {\"monotonic_trend\": \"descending\"},\n",
    "    \"NumInqLast6M\": {\"monotonic_trend\": \"ascending\"},\n",
    "    \"NumInqLast6Mexcl7days\": {\"monotonic_trend\": \"ascending\"},\n",
    "    \"NetFractionRevolvingBurden\": {\"monotonic_trend\": \"ascending\"},\n",
    "    \"NetFractionInstallBurden\": {\"monotonic_trend\": \"ascending\"},\n",
    "    \"NumBank2NatlTradesWHighUtilization\": {\"monotonic_trend\": \"ascending\"}\n",
    "}\n"
   ]
  },
  {
   "cell_type": "markdown",
   "metadata": {},
   "source": [
    "## Feature Clustering\n",
    "\n",
    "In this step, the features are clustered to group together those that carry similar information. From each cluster, we select only one feature. Usually, we choose the feature with the highest Information Value (IV) and the one located at the center of the cluster. To achieve this, we utilize the \"varclushi\" library, which functions similarly to the SAS version. We adapt it to work with a scikit-learn transformer pipeline, ensuring seamless integration into our pipeline."
   ]
  },
  {
   "cell_type": "code",
   "execution_count": 20,
   "metadata": {},
   "outputs": [],
   "source": [
    "from sklearn.base import BaseEstimator, TransformerMixin\n",
    "import pandas as pd\n",
    "from pathlib import Path\n",
    "from varclushi import VarClusHi\n",
    "import json\n",
    "import logging\n",
    "\n",
    "log = logging.getLogger(__name__)\n",
    "\n",
    "class Cluster(BaseEstimator, TransformerMixin):\n",
    "    \"\"\"\n",
    "    Clustering Transformer for Feature Selection.\n",
    "\n",
    "    This transformer clusters features based on their similarity and selects one feature from each cluster \n",
    "    based on the lowest RS Ratio. If available, the feature with the highest IV is also included. \n",
    "    It uses VarClusHi for clustering, a library that functions similarly to the SAS version.\n",
    "    \"\"\"\n",
    "\n",
    "    def __init__(self, max_eigen=1, maxclus=None) -> None:\n",
    "        \"\"\"\n",
    "        Initialize the Cluster transformer.\n",
    "\n",
    "        Parameters:\n",
    "            max_eigen (int, optional): Maximum number of eigenvalues for clustering. Defaults to 1.\n",
    "            maxclus (int, optional): Maximum number of clusters to generate. Defaults to None.\n",
    "        \"\"\"\n",
    "        self.max_eigen = max_eigen\n",
    "        self.maxclus = maxclus\n",
    "\n",
    "    def fit(self, x, y=None):\n",
    "        \"\"\"\n",
    "        Fit the Cluster transformer to the data.\n",
    "\n",
    "        Parameters:\n",
    "            x (pd.DataFrame): Input data.\n",
    "            y: Ignored.\n",
    "\n",
    "        Returns:\n",
    "            self: Fitted Cluster transformer object.\n",
    "        \"\"\"\n",
    "        self.clusters = VarClusHi(df=x, maxeigval2=self.max_eigen, maxclus=self.maxclus)\n",
    "        return self\n",
    "\n",
    "    def transform(self, x):\n",
    "        \"\"\"\n",
    "        Transform the input data based on feature selection.\n",
    "\n",
    "        Parameters:\n",
    "            x (pd.DataFrame): Input data.\n",
    "\n",
    "        Returns:\n",
    "            pd.DataFrame: Transformed data with selected features.\n",
    "        \"\"\"\n",
    "        file = Path(\"data/pipeline/auto-iv-table.csv\")\n",
    "        if file.is_file():\n",
    "            iv_table = self.read_iv_table(file).round(2)\n",
    "        else:\n",
    "            iv_table = None\n",
    "        self.cluster_table = self.get_clusters(iv_table)\n",
    "        self.selected_features = self.get_best_feature_from_each_cluster(\n",
    "            cluster_table=self.cluster_table, feature=\"Variable\"\n",
    "        )\n",
    "        cluster_table = self._indicated_selected(\n",
    "            self.cluster_table, self.selected_features\n",
    "        )\n",
    "        Path(\"data/pipeline\").mkdir(parents=True, exist_ok=True)\n",
    "        cluster_table.to_csv(\"data/pipeline/cluster-iv-table.csv\")\n",
    "        return x[self.selected_features]\n",
    "\n",
    "    @staticmethod\n",
    "    def _indicated_selected(table, selected, features=\"Variable\"):\n",
    "        \"\"\"\n",
    "        Mark selected features in the cluster table.\n",
    "\n",
    "        Parameters:\n",
    "            table (pd.DataFrame): Cluster table.\n",
    "            selected (list): List of selected features.\n",
    "            features (str, optional): Name of the feature column. Defaults to \"Variable\".\n",
    "\n",
    "        Returns:\n",
    "            pd.DataFrame: Cluster table with marked selected features.\n",
    "        \"\"\"\n",
    "        return table.assign(cluster_iv_selection=table[features].isin(selected))\n",
    "\n",
    "    def get_clusters(self, iv_table=None):\n",
    "        \"\"\"\n",
    "        Retrieve clusters with or without IV for each feature.\n",
    "\n",
    "        Parameters:\n",
    "            iv_table (pd.DataFrame, optional): IV table. Defaults to None.\n",
    "\n",
    "        Returns:\n",
    "            pd.DataFrame: Cluster table with or without IV.\n",
    "        \"\"\"\n",
    "        self.clusters.varclus()\n",
    "        self.iv_table = iv_table\n",
    "        if self.iv_table is None:\n",
    "            log.info(\"Retrieving clusters without IVs\")\n",
    "            return self.clusters.rsquare\n",
    "\n",
    "        log.info(\"Retrieving clusters with IV for each feature\")\n",
    "        return pd.merge(\n",
    "            self.clusters.rsquare.round(2),\n",
    "            self.iv_table,\n",
    "            how=\"left\",\n",
    "            left_on=\"Variable\",\n",
    "            right_on=\"name\",\n",
    "        )\n",
    "\n",
    "    @staticmethod\n",
    "    def get_best_feature_from_each_cluster(\n",
    "        cluster_table: pd.DataFrame, feature: str = \"Variable\"\n",
    "    ):\n",
    "        \"\"\"\n",
    "        Get the best feature from each cluster.\n",
    "\n",
    "        Parameters:\n",
    "            cluster_table (pd.DataFrame): Cluster table with RS Ratio and IV.\n",
    "            feature (str, optional): Name of the feature column. Defaults to \"Variable\".\n",
    "\n",
    "        Returns:\n",
    "            list: List of selected features.\n",
    "        \"\"\"\n",
    "        if \"iv\" in cluster_table.columns:\n",
    "            highest_iv = cluster_table.loc[\n",
    "                cluster_table.groupby([\"Cluster\"])[\"iv\"].idxmax()\n",
    "            ][feature].tolist()\n",
    "        else:\n",
    "            highest_iv = []\n",
    "\n",
    "        lowest_rs_ratio = cluster_table.loc[\n",
    "            cluster_table.groupby([\"Cluster\"])[\"RS_Ratio\"].idxmin()\n",
    "        ][feature].tolist()\n",
    "\n",
    "        return list(set(highest_iv + lowest_rs_ratio))\n",
    "\n",
    "    @classmethod\n",
    "    def read_iv_table(cls, path: Path | str, cutoff: float = 0.0):\n",
    "        \"\"\"\n",
    "        Read IV table from a given path and filter based on a cutoff.\n",
    "\n",
    "        Parameters:\n",
    "            path (Path or str): Path to the IV table CSV file.\n",
    "            cutoff (float, optional): IV cutoff value. Defaults to 0.0.\n",
    "\n",
    "        Returns:\n",
    "            pd.DataFrame: IV table after filtering.\n",
    "        \"\"\"\n",
    "        return pd.read_csv(path).query(f\"iv >= {cutoff}\")\n",
    "\n",
    "    @classmethod\n",
    "    def save(cls, data: dict, path):\n",
    "        \"\"\"\n",
    "        Save data to a given file path.\n",
    "\n",
    "        Parameters:\n",
    "            data (dict): Data to be saved.\n",
    "            path (str): File path for saving the data.\n",
    "        \"\"\"\n",
    "        with open(path, mode=\"w\", encoding=\"utf-8\") as f:\n",
    "            json.dump(data, f, indent=6)\n"
   ]
  },
  {
   "cell_type": "markdown",
   "metadata": {},
   "source": [
    "This improved Python code defines a transformer class called \"Cluster,\" which performs feature selection through clustering based on similarity. It selects one feature from each cluster based on the lowest RS Ratio. The code uses VarClusHi library, similar to the SAS version, and integrates it into a scikit-learn transformer pipeline.\n",
    "\n",
    "The `Cluster` class includes three main methods:\n",
    "\n",
    "1. `fit`: Fits the clustering transformer to the input data.\n",
    "2. `transform`: Transforms the input data based on feature selection and returns the data with selected features.\n",
    "3. `get_best_feature_from_each_cluster`: Selects the best feature from each cluster based on the lowest RS Ratio and, if available, the highest IV.\n",
    "\n",
    "The code also includes supporting methods for marking selected features in the cluster table, reading and filtering an IV table from a given path, and saving data to a file.\n",
    "\n",
    "Overall, the \"Cluster\" class provides a comprehensive pipeline for feature selection through clustering, enhancing the explainable scorecard's capabilities in replicating SAS Enterprise Miner's steps."
   ]
  },
  {
   "cell_type": "markdown",
   "metadata": {},
   "source": [
    "## Feature reduction pipeline"
   ]
  },
  {
   "cell_type": "code",
   "execution_count": 21,
   "metadata": {},
   "outputs": [],
   "source": [
    "\n",
    "def variable_reduction_pipeline(\n",
    "    categorical_features: list[str],\n",
    "    binning_features: list[str],\n",
    "    binning_fit_params=None,\n",
    ") -> Pipeline:\n",
    "    \"\"\"Create a scikit-learn pipeline for feature reduction using clustering.\n",
    "\n",
    "    Args:\n",
    "        categorical_features (list[str]): List of names of categorical features.\n",
    "        binning_features (list[str]): List of names of features to apply binning.\n",
    "        binning_fit_params (dict, optional): Fit parameters for binning process. Defaults to None.\n",
    "\n",
    "    Returns:\n",
    "        Pipeline: A scikit-learn pipeline for feature reduction.\n",
    "\n",
    "    \"\"\"\n",
    "    binning_process = BinningProcess(\n",
    "        categorical_variables=categorical_features,\n",
    "        variable_names=binning_features,\n",
    "        binning_fit_params=binning_fit_params,\n",
    "        min_prebin_size=10e-5,  # The prebin size to make the feature set usable\n",
    "        special_codes=SPECIAL_CODES,\n",
    "        selection_criteria={\"iv\": {\"min\": 0.1}}\n",
    "    )\n",
    "\n",
    "    variance_reductor = VarianceThreshold().set_output(transform=\"pandas\")\n",
    "    clustering_process = Cluster(max_eigen=MAX_EIGEN)\n",
    "    feature_selection = RFECV(\n",
    "        LogisticRegression(max_iter=1000),\n",
    "        cv=5,\n",
    "        scoring=\"roc_auc\",\n",
    "        n_jobs=-1,\n",
    "    )\n",
    "\n",
    "    return Pipeline(\n",
    "        [\n",
    "            ('variance', variance_reductor),\n",
    "            ('binning', binning_process),\n",
    "            ('cluster', clustering_process),\n",
    "            ('features', feature_selection),\n",
    "        ]\n",
    "    )\n"
   ]
  },
  {
   "cell_type": "markdown",
   "metadata": {},
   "source": [
    "Explanation:\n",
    "\n",
    "The provided Python code defines a function `variable_reduction_pipeline` that creates a scikit-learn pipeline for feature reduction using clustering. The pipeline comprises the following steps:\n",
    "\n",
    "1. Binning Process: This step applies binning to the specified features using the `varclushi.BinningProcess`. It groups similar features based on information similarity and selects one feature from each cluster. Parameters like `categorical_features`, `binning_features`, and `binning_fit_params` are used to customize the binning process.\n",
    "\n",
    "2. Variance Reduction: The pipeline uses `sklearn.feature_selection.VarianceThreshold` to eliminate features with little variance, which may not significantly contribute to the learning process or add noise to the model.\n",
    "\n",
    "3. Clustering: The `varclushi.Cluster` is applied to perform clustering of the features, aiming to group together features with similar information content.\n",
    "\n",
    "4. Recursive Feature Elimination with Cross-Validation (RFECV): This step utilizes `sklearn.feature_selection.RFECV` with `LogisticRegression` as the estimator. RFECV selects the most informative features by recursively eliminating the least significant features while performing cross-validation.\n",
    "\n",
    "The function returns the complete pipeline, ready to be used for feature reduction and clustering, making it convenient for creating parsimonious models in credit risk modeling and similar applications."
   ]
  },
  {
   "cell_type": "markdown",
   "metadata": {},
   "source": [
    "## Scorecard Model"
   ]
  },
  {
   "cell_type": "code",
   "execution_count": 22,
   "metadata": {},
   "outputs": [],
   "source": [
    "def model_pipeline(features, categorical_features, binning_fit_params=None):\n",
    "    \"\"\"\n",
    "    Creates a pipeline for building a Scorecard model using the provided features and categorical features.\n",
    "\n",
    "    Args:\n",
    "        features (list): List of feature names.\n",
    "        categorical_features (list): List of categorical feature names.\n",
    "        binning_fit_params (dict, optional): Parameters for the binning process. Defaults to None.\n",
    "\n",
    "    Returns:\n",
    "        Scorecard: A Scorecard model pipeline.\n",
    "\n",
    "    \"\"\"\n",
    "    binning_process = BinningProcess(\n",
    "        categorical_variables=categorical_features,\n",
    "        variable_names=features,\n",
    "        binning_fit_params=binning_fit_params,\n",
    "        min_prebin_size=10e-5,\n",
    "        special_codes=SPECIAL_CODES,\n",
    "        selection_criteria={\"iv\":{\"min\": 0.1}}\n",
    "    )\n",
    "    scaling_method: str = \"pdo_odds\"\n",
    "    scaling_method_data = {\n",
    "        \"pdo\": 30,\n",
    "        \"odds\": 20,\n",
    "        \"scorecard_points\": 750,\n",
    "    }\n",
    "    return Scorecard(\n",
    "        binning_process=binning_process,\n",
    "        estimator=LogisticRegression(),\n",
    "        scaling_method=scaling_method,\n",
    "        scaling_method_params=scaling_method_data,\n",
    "        intercept_based=True,\n",
    "        reverse_scorecard=False,\n",
    "        rounding=True,\n",
    "    )\n"
   ]
  },
  {
   "cell_type": "markdown",
   "metadata": {},
   "source": [
    "\n",
    "**Explanation:**\n",
    "\n",
    "The provided Python function `model_pipeline` creates a pipeline for building a Scorecard model using the specified features and categorical features. The function takes three arguments:\n",
    "\n",
    "1. `features`: A list of feature names to be used in the model.\n",
    "2. `categorical_features`: A list of categorical feature names.\n",
    "3. `binning_fit_params` (optional): Parameters for the binning process. Default is set to None.\n",
    "\n",
    "Inside the function, a `BinningProcess` object is created to handle the feature binning. It specifies the categorical variables, variable names, and binning fit parameters, among other options. The pipeline applies selection criteria, where features with Information Value (IV) less than 0.1 are discarded.\n",
    "\n",
    "Next, the function sets the scaling method to \"pdo_odds\" and defines scaling method data with values for \"pdo,\" \"odds,\" and \"scorecard_points.\"\n",
    "\n",
    "Finally, a `Scorecard` model is returned, which uses the previously defined binning process, a Logistic Regression estimator, and additional scaling and rounding options to create the final Scorecard model pipeline."
   ]
  },
  {
   "cell_type": "markdown",
   "metadata": {},
   "source": [
    "## Other help functions"
   ]
  },
  {
   "cell_type": "code",
   "execution_count": 23,
   "metadata": {},
   "outputs": [],
   "source": [
    "import os\n",
    "from pathlib import Path\n",
    "import pandas as pd\n",
    "\n",
    "def get_data_and_columns(data_path=\"data\"):\n",
    "    \"\"\"\n",
    "    Load data and return the features and categorical columns.\n",
    "\n",
    "    Args:\n",
    "        data_path (str): Path to the data directory.\n",
    "\n",
    "    Returns:\n",
    "        x_train (pd.DataFrame): Training data features.\n",
    "        y_train (numpy.ndarray): Training data target labels.\n",
    "        features (list): List of all features.\n",
    "        categorical_columns (list): List of categorical column names.\n",
    "    \"\"\"\n",
    "    x_train = pd.read_parquet(os.path.join(data_path, \"X_train.parquet\"))\n",
    "    y_train = pd.read_parquet(os.path.join(data_path, \"y_train.parquet\")).astype(\"int8\").values.reshape(-1)\n",
    "\n",
    "    categorical_columns = x_train.select_dtypes(include=[\"object\", \"category\", \"string\"]).columns.tolist()\n",
    "    features = x_train.columns.tolist()\n",
    "\n",
    "    return x_train, y_train, features, categorical_columns\n",
    "\n",
    "\n",
    "def save_pipeline_artifacts(pipe, scorecard):\n",
    "    \"\"\"\n",
    "    Save the pipeline artifacts such as the model, IV table, and scorecard table.\n",
    "\n",
    "    Args:\n",
    "        pipe (dict): Dictionary containing pipeline components.\n",
    "        scorecard (scorecardpy.ScoreCard): Scorecard model.\n",
    "    \"\"\"\n",
    "    Path(\"data/pipeline\").mkdir(parents=True, exist_ok=True)\n",
    "    scorecard.save(\"data/pipeline/model.pkl\")\n",
    "    pipe[\"binning\"].summary().to_csv(\"data/pipeline/auto-iv-table.csv\")\n",
    "    scorecard.table(style=\"detailed\").round(3).to_csv(\"data/pipeline/scorecard-table.csv\")\n"
   ]
  },
  {
   "cell_type": "markdown",
   "metadata": {},
   "source": [
    "**Explanation**:\n",
    "\n",
    "The first function, `get_data_and_columns`, loads the training data and returns the features and categorical columns. It reads the training data from the specified data path, converts the target labels to an array, and identifies the categorical columns based on their data types. The function returns the training data features, target labels, list of all features, and a list of categorical column names.\n",
    "\n",
    "The second function, `save_pipeline_artifacts`, saves various pipeline artifacts. It creates a \"pipeline\" directory if it doesn't exist and saves the scorecard model as \"model.pkl\" within that directory. Additionally, it saves the IV (Information Value) table as \"auto-iv-table.csv\" and the scorecard table as \"scorecard-table.csv\" within the same directory. These artifacts are essential for further analysis and model evaluation."
   ]
  },
  {
   "cell_type": "markdown",
   "metadata": {},
   "source": [
    "## Main Entrypoint"
   ]
  },
  {
   "cell_type": "code",
   "execution_count": 24,
   "metadata": {},
   "outputs": [],
   "source": [
    "import pandas as pd\n",
    "\n",
    "def main(data_path: str, binning_fit_params: dict) -> tuple:\n",
    "    \"\"\"\n",
    "    Clustering and Variable Reduction Pipeline\n",
    "\n",
    "    This function performs clustering and variable reduction on the input data using the \"varclushi\" library.\n",
    "    The input data and corresponding target labels are obtained from the specified data_path.\n",
    "    Categorical and non-categorical features are determined, and the clustering pipeline is constructed.\n",
    "    The model pipeline is then created based on the selected features, and both pipelines are fitted to the data.\n",
    "    The selected features are stored, and the scorecard model's table is generated.\n",
    "    Finally, the pipelines and model are saved as artifacts.\n",
    "\n",
    "    Args:\n",
    "        data_path (str): Path to the data directory containing training data.\n",
    "        binning_fit_params (dict): Parameters for binning fitting.\n",
    "\n",
    "    Returns:\n",
    "        tuple: A tuple containing the scorecard model, the scorecard model's table, and the clustering pipeline.\n",
    "    \"\"\"\n",
    "\n",
    "    x_train, y_train, features, categorical_columns = get_data_and_columns(\n",
    "        data_path=data_path\n",
    "    )\n",
    "\n",
    "    # Clustering and variable reduction pipeline\n",
    "    reductor_pipeline = variable_reduction_pipeline(\n",
    "        categorical_features=categorical_columns,\n",
    "        binning_features=features,\n",
    "        binning_fit_params=binning_fit_params\n",
    "    )\n",
    "    reductor_pipeline.fit(X=x_train, y=y_train)\n",
    "\n",
    "    selected_columns = (\n",
    "        reductor_pipeline[\"features\"].feature_names_in_\n",
    "        [reductor_pipeline[\"features\"].support_]\n",
    "    )\n",
    "    categorical_columns = list(set(selected_columns).intersection(categorical_columns))\n",
    "\n",
    "    # Model pipeline\n",
    "    scorecard_model = model_pipeline(\n",
    "        features=selected_columns,\n",
    "        categorical_features=categorical_columns,\n",
    "        binning_fit_params=binning_fit_params\n",
    "    )\n",
    "    scorecard_model.fit(X=x_train, y=y_train)\n",
    "\n",
    "    # Save artifacts\n",
    "    save_pipeline_artifacts(pipe=reductor_pipeline, scorecard=scorecard_model)\n",
    "\n",
    "    return scorecard_model, scorecard_model.table(), reductor_pipeline\n"
   ]
  },
  {
   "cell_type": "markdown",
   "metadata": {},
   "source": [
    "**Explanation**:\n",
    "\n",
    "The given Python code defines a main function that performs clustering and variable reduction on the input data using the \"varclushi\" library. The input data and corresponding target labels are obtained from the specified data_path. Categorical and non-categorical features are determined, and the clustering pipeline is constructed. The model pipeline is then created based on the selected features, and both pipelines are fitted to the data. The selected features are stored, and the scorecard model's table is generated. Finally, the pipelines and model are saved as artifacts, and the function returns a tuple containing the scorecard model, the scorecard model's table, and the clustering pipeline."
   ]
  },
  {
   "cell_type": "markdown",
   "metadata": {},
   "source": [
    "## Checking results"
   ]
  },
  {
   "cell_type": "code",
   "execution_count": 25,
   "metadata": {},
   "outputs": [],
   "source": [
    "from sklearn.metrics import auc, roc_auc_score, roc_curve\n",
    "import matplotlib.pyplot as plt"
   ]
  },
  {
   "cell_type": "code",
   "execution_count": null,
   "metadata": {},
   "outputs": [],
   "source": [
    "model, model_table, dim_reduction = main(data_path=\"data\", binning_fit_params=binning_fit_params)"
   ]
  },
  {
   "cell_type": "code",
   "execution_count": 27,
   "metadata": {},
   "outputs": [
    {
     "data": {
      "text/html": [
       "<div>\n",
       "<style scoped>\n",
       "    .dataframe tbody tr th:only-of-type {\n",
       "        vertical-align: middle;\n",
       "    }\n",
       "\n",
       "    .dataframe tbody tr th {\n",
       "        vertical-align: top;\n",
       "    }\n",
       "\n",
       "    .dataframe thead th {\n",
       "        text-align: right;\n",
       "    }\n",
       "</style>\n",
       "<table border=\"1\" class=\"dataframe\">\n",
       "  <thead>\n",
       "    <tr style=\"text-align: right;\">\n",
       "      <th></th>\n",
       "      <th>Variable</th>\n",
       "      <th>Bin</th>\n",
       "      <th>Points</th>\n",
       "    </tr>\n",
       "  </thead>\n",
       "  <tbody>\n",
       "    <tr>\n",
       "      <th>0</th>\n",
       "      <td>NumSatisfactoryTrades</td>\n",
       "      <td>(-inf, 2.50)</td>\n",
       "      <td>0.0</td>\n",
       "    </tr>\n",
       "    <tr>\n",
       "      <th>1</th>\n",
       "      <td>NumSatisfactoryTrades</td>\n",
       "      <td>[2.50, 5.50)</td>\n",
       "      <td>28.0</td>\n",
       "    </tr>\n",
       "    <tr>\n",
       "      <th>2</th>\n",
       "      <td>NumSatisfactoryTrades</td>\n",
       "      <td>[5.50, 8.50)</td>\n",
       "      <td>40.0</td>\n",
       "    </tr>\n",
       "    <tr>\n",
       "      <th>3</th>\n",
       "      <td>NumSatisfactoryTrades</td>\n",
       "      <td>[8.50, 11.50)</td>\n",
       "      <td>47.0</td>\n",
       "    </tr>\n",
       "    <tr>\n",
       "      <th>4</th>\n",
       "      <td>NumSatisfactoryTrades</td>\n",
       "      <td>[11.50, 18.50)</td>\n",
       "      <td>54.0</td>\n",
       "    </tr>\n",
       "    <tr>\n",
       "      <th>...</th>\n",
       "      <td>...</td>\n",
       "      <td>...</td>\n",
       "      <td>...</td>\n",
       "    </tr>\n",
       "    <tr>\n",
       "      <th>9</th>\n",
       "      <td>NetFractionRevolvingBurden</td>\n",
       "      <td>[73.50, 80.50)</td>\n",
       "      <td>8.0</td>\n",
       "    </tr>\n",
       "    <tr>\n",
       "      <th>10</th>\n",
       "      <td>NetFractionRevolvingBurden</td>\n",
       "      <td>[80.50, 93.50)</td>\n",
       "      <td>3.0</td>\n",
       "    </tr>\n",
       "    <tr>\n",
       "      <th>11</th>\n",
       "      <td>NetFractionRevolvingBurden</td>\n",
       "      <td>[93.50, inf)</td>\n",
       "      <td>0.0</td>\n",
       "    </tr>\n",
       "    <tr>\n",
       "      <th>12</th>\n",
       "      <td>NetFractionRevolvingBurden</td>\n",
       "      <td>Special</td>\n",
       "      <td>32.0</td>\n",
       "    </tr>\n",
       "    <tr>\n",
       "      <th>13</th>\n",
       "      <td>NetFractionRevolvingBurden</td>\n",
       "      <td>Missing</td>\n",
       "      <td>32.0</td>\n",
       "    </tr>\n",
       "  </tbody>\n",
       "</table>\n",
       "<p>82 rows × 3 columns</p>\n",
       "</div>"
      ],
      "text/plain": [
       "                      Variable             Bin  Points\n",
       "0        NumSatisfactoryTrades    (-inf, 2.50)     0.0\n",
       "1        NumSatisfactoryTrades    [2.50, 5.50)    28.0\n",
       "2        NumSatisfactoryTrades    [5.50, 8.50)    40.0\n",
       "3        NumSatisfactoryTrades   [8.50, 11.50)    47.0\n",
       "4        NumSatisfactoryTrades  [11.50, 18.50)    54.0\n",
       "..                         ...             ...     ...\n",
       "9   NetFractionRevolvingBurden  [73.50, 80.50)     8.0\n",
       "10  NetFractionRevolvingBurden  [80.50, 93.50)     3.0\n",
       "11  NetFractionRevolvingBurden    [93.50, inf)     0.0\n",
       "12  NetFractionRevolvingBurden         Special    32.0\n",
       "13  NetFractionRevolvingBurden         Missing    32.0\n",
       "\n",
       "[82 rows x 3 columns]"
      ]
     },
     "execution_count": 27,
     "metadata": {},
     "output_type": "execute_result"
    }
   ],
   "source": [
    "model_table"
   ]
  },
  {
   "cell_type": "code",
   "execution_count": 28,
   "metadata": {},
   "outputs": [
    {
     "data": {
      "text/plain": [
       "array(['NumSatisfactoryTrades', 'MaxDelq2PublicRecLast12M',\n",
       "       'MSinceMostRecentInqexcl7days', 'ExternalRiskEstimate',\n",
       "       'AverageMInFile', 'PercentInstallTrades',\n",
       "       'NetFractionRevolvingBurden'], dtype=object)"
      ]
     },
     "execution_count": 28,
     "metadata": {},
     "output_type": "execute_result"
    }
   ],
   "source": [
    "model_table.Variable.unique()"
   ]
  },
  {
   "cell_type": "code",
   "execution_count": 29,
   "metadata": {},
   "outputs": [
    {
     "data": {
      "text/plain": [
       "array(['NumSatisfactoryTrades', 'MaxDelq2PublicRecLast12M',\n",
       "       'MSinceMostRecentInqexcl7days', 'ExternalRiskEstimate',\n",
       "       'AverageMInFile', 'PercentInstallTrades',\n",
       "       'NetFractionRevolvingBurden'], dtype=object)"
      ]
     },
     "execution_count": 29,
     "metadata": {},
     "output_type": "execute_result"
    }
   ],
   "source": [
    "model.table().Variable.unique()"
   ]
  },
  {
   "cell_type": "markdown",
   "metadata": {},
   "source": [
    "Show each features in and out of each stage."
   ]
  },
  {
   "cell_type": "code",
   "execution_count": 30,
   "metadata": {},
   "outputs": [
    {
     "name": "stdout",
     "output_type": "stream",
     "text": [
      "step='features' Features in: 9, Features out: 7\n"
     ]
    }
   ],
   "source": [
    "for step, transformer in dim_reduction.steps:\n",
    "    try:\n",
    "        print(f\"{step=} Features in: {dim_reduction[step].n_features_in_}, Features out: {dim_reduction[step].n_features_}\")\n",
    "    except Exception as e:\n",
    "        pass"
   ]
  },
  {
   "cell_type": "code",
   "execution_count": 39,
   "metadata": {},
   "outputs": [
    {
     "data": {
      "text/plain": [
       "7"
      ]
     },
     "execution_count": 39,
     "metadata": {},
     "output_type": "execute_result"
    }
   ],
   "source": [
    "dim_reduction[\"features\"].n_features_"
   ]
  },
  {
   "cell_type": "markdown",
   "metadata": {},
   "source": [
    "Compute the ROC to compare with other tutorials in the website."
   ]
  },
  {
   "cell_type": "code",
   "execution_count": 32,
   "metadata": {},
   "outputs": [],
   "source": [
    "x_test = pd.read_parquet(os.path.join(\"data\", \"X_val.parquet\"))\n",
    "y_test = pd.read_parquet(os.path.join(\"data\", \"y_val.parquet\")).astype(\"int8\").values.reshape(-1)"
   ]
  },
  {
   "cell_type": "code",
   "execution_count": 33,
   "metadata": {},
   "outputs": [],
   "source": [
    "probs = model.predict_proba(x_test)\n",
    "preds = probs[:,1]\n",
    "fpr1, tpr1, threshold = roc_curve(y_test, preds)\n",
    "roc_auc1 = auc(fpr1, tpr1)"
   ]
  },
  {
   "cell_type": "code",
   "execution_count": 35,
   "metadata": {},
   "outputs": [
    {
     "data": {
      "text/plain": [
       "Text(0.5, 0, 'False Positive Rate')"
      ]
     },
     "execution_count": 35,
     "metadata": {},
     "output_type": "execute_result"
    },
    {
     "data": {
      "image/png": "[encoded data removed]",
      "text/plain": [
       "<Figure size 640x480 with 1 Axes>"
      ]
     },
     "metadata": {},
     "output_type": "display_data"
    }
   ],
   "source": [
    "plt.title('Receiver Operating Characteristic')\n",
    "plt.plot(fpr1, tpr1, 'b', label='Pipeline + LR: AUC = {0:.4f}'.format(roc_auc1))\n",
    "plt.legend(loc='lower right')\n",
    "plt.plot([0, 1], [0, 1],'k--')\n",
    "plt.xlim([0, 1])\n",
    "plt.ylim([0, 1])\n",
    "plt.ylabel('True Positive Rate')\n",
    "plt.xlabel('False Positive Rate')"
   ]
  }
 ],
 "metadata": {
  "kernelspec": {
   "display_name": "capstone-naQBGXSG",
   "language": "python",
   "name": "python3"
  },
  "language_info": {
   "codemirror_mode": {
    "name": "ipython",
    "version": 3
   },
   "file_extension": ".py",
   "mimetype": "text/x-python",
   "name": "python",
   "nbconvert_exporter": "python",
   "pygments_lexer": "ipython3",
   "version": "3.10.9"
  },
  "orig_nbformat": 4
 },
 "nbformat": 4,
 "nbformat_minor": 2
}
